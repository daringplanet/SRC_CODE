{
  "nbformat": 4,
  "nbformat_minor": 0,
  "metadata": {
    "colab": {
      "name": "Pandas_And_Regression.ipynb",
      "provenance": []
    },
    "kernelspec": {
      "name": "python3",
      "display_name": "Python 3"
    }
  },
  "cells": [
    {
      "cell_type": "markdown",
      "metadata": {
        "id": "Z8x_2WNdj6IE",
        "colab_type": "text"
      },
      "source": [
        "**Pandas_And_Regression**\n",
        "\n",
        "Written by William Lippard\n"
      ]
    },
    {
      "cell_type": "code",
      "metadata": {
        "id": "J4GKuImaj3Od",
        "colab_type": "code",
        "colab": {}
      },
      "source": [
        "\n",
        "import sklearn.datasets as datasets\n",
        "from sklearn import metrics\n",
        "from pandas import DataFrame, Series\n",
        "from sklearn import model_selection as ms\n",
        "from sklearn.linear_model import LogisticRegression \n",
        "from sklearn.tree import *\n",
        "from sklearn import preprocessing\n",
        "from sklearn import utils\n",
        "from matplotlib.pyplot import *\n",
        "import numpy as np\n"
      ],
      "execution_count": 0,
      "outputs": []
    },
    {
      "cell_type": "code",
      "metadata": {
        "id": "H-CqeSjPo0u_",
        "colab_type": "code",
        "colab": {}
      },
      "source": [
        "def zscores(s):\n",
        "  return (s - s.mean()) / s.std()"
      ],
      "execution_count": 0,
      "outputs": []
    },
    {
      "cell_type": "code",
      "metadata": {
        "id": "Xxcu5856nkzj",
        "colab_type": "code",
        "colab": {}
      },
      "source": [
        "#Loading the boston house price data set\n",
        "boston =  datasets.load_boston()\n",
        "data = DataFrame(boston.data, columns=boston.feature_names)\n",
        "normData = data.apply(zscores)\n",
        "#normData.boxplot(rot=90)\n",
        "y = boston.target.copy()\n",
        "x = normData\n",
        "\n"
      ],
      "execution_count": 0,
      "outputs": []
    },
    {
      "cell_type": "code",
      "metadata": {
        "id": "5cul9WahpmKO",
        "colab_type": "code",
        "colab": {}
      },
      "source": [
        "#changing y to be either 1 or 0 if listing price is > 20, 1\n",
        "y[y <= 20] = 0\n",
        "y[y > 20] = 1\n",
        "\n",
        "#splitting training and testing data\n",
        "#xTrain, xTest, yTrain, yTest = ms.train_test_split(x, y, test_size=33)\n",
        "\n",
        "#print(len(xTrain), len(yTrain))\n",
        "#print(len(xTest), len(yTest))"
      ],
      "execution_count": 0,
      "outputs": []
    },
    {
      "cell_type": "code",
      "metadata": {
        "id": "gKsTIe0bqu7K",
        "colab_type": "code",
        "outputId": "924cfc5f-ff2d-46e5-94cd-b3c927eee1b9",
        "colab": {
          "base_uri": "https://localhost:8080/",
          "height": 317
        }
      },
      "source": [
        "#creating a logistic regression model\n",
        "logreg = LogisticRegression()\n",
        "logreg.fit(x, y)\n",
        "\n",
        "\n",
        "coefs = Series(logreg.coef_[0], boston.feature_names)\n",
        "coefs.plot(kind='bar')\n",
        "ylabel('Coefficient')"
      ],
      "execution_count": 5,
      "outputs": [
        {
          "output_type": "execute_result",
          "data": {
            "text/plain": [
              "Text(0, 0.5, 'Coefficient')"
            ]
          },
          "metadata": {
            "tags": []
          },
          "execution_count": 5
        },
        {
          "output_type": "display_data",
          "data": {
            "image/png": "[encoded data removed]",
            "text/plain": [
              "<Figure size 432x288 with 1 Axes>"
            ]
          },
          "metadata": {
            "tags": [],
            "needs_background": "light"
          }
        }
      ]
    },
    {
      "cell_type": "code",
      "metadata": {
        "id": "WAFYX__HxsUK",
        "colab_type": "code",
        "colab": {}
      },
      "source": [
        "def trainPerf(clf, X, Y):\n",
        "    print(' ------ training performance ------')\n",
        "    pred = clf.predict(X)\n",
        "    print('confusion matrix: \\n', metrics.confusion_matrix(Y, pred))\n",
        "    #print(\"accuracy: %.3f\" % metrics.accuracy_score(Y, pred))\n",
        "    print(\"kappa: %.3f \" % metrics.cohen_kappa_score(Y, pred))\n",
        "    print(\"Classification report: \\n\", metrics.classification_report(Y, pred))\n",
        "    #score = clf.predict_proba(X)\n",
        "    #auc=metrics.roc_auc_score(Y, score[:,1])\n",
        "    #print(\"AUC: %.3f\" % auc)"
      ],
      "execution_count": 0,
      "outputs": []
    },
    {
      "cell_type": "code",
      "metadata": {
        "id": "RTQEKjIJRpBa",
        "colab_type": "code",
        "colab": {}
      },
      "source": [
        "def crossValPer(clf, X, Y):\n",
        "  print('------- cross-validation performance -------')\n",
        "  kfold = ms.StratifiedKFold(n_splits=10, shuffle=True)\n",
        "  pred = ms.cross_val_predict(clf, X, Y, cv=kfold)\n",
        "  print('confusion matrix: \\n', metrics.confusion_matrix(Y, pred))\n",
        "  print(\"accuracy: %.3f\" % metrics.accuracy_score(Y, pred))\n",
        "  print(\"kappa: %.3f\" % metrics.cohen_kappa_score(Y, pred))\n",
        "  print(\"Classification report: \\n\", metrics.classification_report(Y, pred))"
      ],
      "execution_count": 0,
      "outputs": []
    },
    {
      "cell_type": "code",
      "metadata": {
        "id": "9vNgA1iCzJZw",
        "colab_type": "code",
        "colab": {}
      },
      "source": [
        "def crossValPerROC(clf, X, Y):\n",
        "  # Cross-Validation performance\n",
        "    #print('------- cross-validation performance -------')\n",
        "    kfold = ms.StratifiedKFold(n_splits=10, shuffle=True)\n",
        "    #pred = ms.cross_val_predict(clf, X, Y, cv=kfold)\n",
        "    #print('confusion matrix: \\n', metrics.confusion_matrix(Y, pred))\n",
        "    #print(\"accuracy: %.3f\" % metrics.accuracy_score(Y, pred))\n",
        "    #print(\"kappa: %.3f\" % metrics.cohen_kappa_score(Y, pred))\n",
        "    #print(\"Classification report: \\n\", metrics.classification_report(Y, pred))\n",
        "    score = ms.cross_val_predict(clf, X, Y, cv=kfold, method='predict_proba')\n",
        "    auc=metrics.roc_auc_score(Y, score[:,1])\n",
        "    roc=metrics.roc_curve(Y, score[:, 1])\n",
        "    #print(\"AUC: %.3f\" % auc)\n",
        "    plot(roc[0], roc[1])\n",
        "    xlabel('FPR')\n",
        "    ylabel('TPR')\n",
        "    title('ROC curve')\n",
        "    text(.6, .2, 'AUC = %.3f' %auc, fontsize=12)\n",
        "    show()"
      ],
      "execution_count": 0,
      "outputs": []
    },
    {
      "cell_type": "code",
      "metadata": {
        "id": "yyddR7OuudHx",
        "colab_type": "code",
        "outputId": "598e8a08-8a5f-4221-ed49-022db666b483",
        "colab": {
          "base_uri": "https://localhost:8080/",
          "height": 277
        }
      },
      "source": [
        "#3.ii\n",
        "trainPerf(logreg, x, y)"
      ],
      "execution_count": 9,
      "outputs": [
        {
          "output_type": "stream",
          "text": [
            " ------ training performance ------\n",
            "confusion matrix: \n",
            " [[183  32]\n",
            " [ 25 266]]\n",
            "kappa: 0.769 \n",
            "Classification report: \n",
            "               precision    recall  f1-score   support\n",
            "\n",
            "         0.0       0.88      0.85      0.87       215\n",
            "         1.0       0.89      0.91      0.90       291\n",
            "\n",
            "    accuracy                           0.89       506\n",
            "   macro avg       0.89      0.88      0.88       506\n",
            "weighted avg       0.89      0.89      0.89       506\n",
            "\n"
          ],
          "name": "stdout"
        }
      ]
    },
    {
      "cell_type": "code",
      "metadata": {
        "id": "8AvWeBsqyrx2",
        "colab_type": "code",
        "outputId": "4472a809-d695-42da-82bb-115bb8c24bfb",
        "colab": {
          "base_uri": "https://localhost:8080/",
          "height": 295
        }
      },
      "source": [
        "#3.iii\n",
        "crossValPer(logreg, x, y)"
      ],
      "execution_count": 10,
      "outputs": [
        {
          "output_type": "stream",
          "text": [
            "------- cross-validation performance -------\n",
            "confusion matrix: \n",
            " [[180  35]\n",
            " [ 27 264]]\n",
            "accuracy: 0.877\n",
            "kappa: 0.748\n",
            "Classification report: \n",
            "               precision    recall  f1-score   support\n",
            "\n",
            "         0.0       0.87      0.84      0.85       215\n",
            "         1.0       0.88      0.91      0.89       291\n",
            "\n",
            "    accuracy                           0.88       506\n",
            "   macro avg       0.88      0.87      0.87       506\n",
            "weighted avg       0.88      0.88      0.88       506\n",
            "\n"
          ],
          "name": "stdout"
        }
      ]
    },
    {
      "cell_type": "code",
      "metadata": {
        "id": "5XWpiWLbzCao",
        "colab_type": "code",
        "outputId": "bf0b69f0-71ab-4d07-ff5d-2e211fdb42ca",
        "colab": {
          "base_uri": "https://localhost:8080/",
          "height": 295
        }
      },
      "source": [
        "#3.iV\n",
        "crossValPerROC(logreg, x, y)"
      ],
      "execution_count": 11,
      "outputs": [
        {
          "output_type": "display_data",
          "data": {
            "image/png": "[encoded data removed]",
            "text/plain": [
              "<Figure size 432x288 with 1 Axes>"
            ]
          },
          "metadata": {
            "tags": [],
            "needs_background": "light"
          }
        }
      ]
    },
    {
      "cell_type": "code",
      "metadata": {
        "id": "2dkleFlNQs2L",
        "colab_type": "code",
        "colab": {}
      },
      "source": [
        "y = boston.target.copy()\n",
        "x = normData\n",
        "\n",
        "#print(y)\n",
        "#changing y to be either 1 or 0 if listing price is > 20, 1\n",
        "y[y <= 40] = 0\n",
        "y[y > 40] = 1\n",
        "\n",
        "#splitting training and testing data\n",
        "#xTrain, xTest, yTrain, yTest = ms.train_test_split(x, y, test_size=33)\n"
      ],
      "execution_count": 0,
      "outputs": []
    },
    {
      "cell_type": "code",
      "metadata": {
        "id": "NPLqyB2nRUlj",
        "colab_type": "code",
        "outputId": "fe273ee3-23a6-4f5b-9865-904a6d7bfe5c",
        "colab": {
          "base_uri": "https://localhost:8080/",
          "height": 295
        }
      },
      "source": [
        "#creating a logistic regression model\n",
        "logreg2 = LogisticRegression()\n",
        "logreg2.fit(x, y)\n",
        "\n",
        "crossValPer(logreg2, x, y)\n"
      ],
      "execution_count": 13,
      "outputs": [
        {
          "output_type": "stream",
          "text": [
            "------- cross-validation performance -------\n",
            "confusion matrix: \n",
            " [[473   2]\n",
            " [ 12  19]]\n",
            "accuracy: 0.972\n",
            "kappa: 0.717\n",
            "Classification report: \n",
            "               precision    recall  f1-score   support\n",
            "\n",
            "         0.0       0.98      1.00      0.99       475\n",
            "         1.0       0.90      0.61      0.73        31\n",
            "\n",
            "    accuracy                           0.97       506\n",
            "   macro avg       0.94      0.80      0.86       506\n",
            "weighted avg       0.97      0.97      0.97       506\n",
            "\n"
          ],
          "name": "stdout"
        }
      ]
    },
    {
      "cell_type": "markdown",
      "metadata": {
        "id": "ZP059cByS95_",
        "colab_type": "text"
      },
      "source": [
        "The accuracy is higher than the previous mode after changing the y values, along with a lower kappa value indicating that our classifier is not as useful as the threshold, and the accuracy is high due to more chance. In the previous threshold of 20 the kappa of was greater than 40 and an accuacy was a little lower which tells us that the classifer is more useful and not as subject to chance. "
      ]
    },
    {
      "cell_type": "code",
      "metadata": {
        "id": "uUJz4KEEuYpS",
        "colab_type": "code",
        "outputId": "f9d11d21-cb2d-4864-a4b9-e8dabe176ca4",
        "colab": {
          "base_uri": "https://localhost:8080/",
          "height": 313
        }
      },
      "source": [
        "#part 1\n",
        "\n",
        "score = np.linspace(.95, .05, 10)\n",
        "pos = [2, 5, 7, 7, 4, 2, 2, 0, 1, 0]\n",
        "neg = [0, 1, 2, 4, 3, 10, 15, 10, 15, 10]\n",
        "tp = np.cumsum(pos)\n",
        "fp = np.cumsum(neg)\n",
        "tpr = tp/30\n",
        "fpr = fp/70\n",
        "\n",
        "plot(fpr, tpr)\n",
        "xlabel('FPR')\n",
        "ylabel('TPR')\n",
        "title('ROC curve')\n",
        "grid()\n",
        "\n",
        "np.diff(fpr).dot(tpr[1:]+tpr[:-1])/2"
      ],
      "execution_count": 14,
      "outputs": [
        {
          "output_type": "execute_result",
          "data": {
            "text/plain": [
              "0.8938095238095238"
            ]
          },
          "metadata": {
            "tags": []
          },
          "execution_count": 14
        },
        {
          "output_type": "display_data",
          "data": {
            "image/png": "[encoded data removed]",
            "text/plain": [
              "<Figure size 432x288 with 1 Axes>"
            ]
          },
          "metadata": {
            "tags": [],
            "needs_background": "light"
          }
        }
      ]
    },
    {
      "cell_type": "code",
      "metadata": {
        "id": "_e7BrQWoJoA5",
        "colab_type": "code",
        "colab": {}
      },
      "source": [
        "# Part 4\n",
        "#loading data\n",
        "can = datasets.load_breast_cancer()\n",
        "cData = DataFrame(can.data, columns=can.feature_names)\n",
        "\n",
        "yC = can.target.copy()\n",
        "xC = cData\n",
        "\n"
      ],
      "execution_count": 0,
      "outputs": []
    },
    {
      "cell_type": "code",
      "metadata": {
        "id": "QAe_jYWtMfPx",
        "colab_type": "code",
        "outputId": "886f318e-2cb3-4fab-81ff-26fd01ab1afe",
        "colab": {
          "base_uri": "https://localhost:8080/",
          "height": 369
        }
      },
      "source": [
        "#4.a.i\n",
        "dtCan = DecisionTreeClassifier(max_depth=2, min_samples_leaf=50)\n",
        "dtCan.fit(xC, yC)\n",
        "\n",
        "plot_tree(dtCan)\n"
      ],
      "execution_count": 16,
      "outputs": [
        {
          "output_type": "execute_result",
          "data": {
            "text/plain": [
              "[Text(167.4, 181.2, 'X[20] <= 16.795\\ngini = 0.468\\nsamples = 569\\nvalue = [212, 357]'),\n",
              " Text(83.7, 108.72, 'X[27] <= 0.133\\ngini = 0.159\\nsamples = 379\\nvalue = [33, 346]'),\n",
              " Text(41.85, 36.23999999999998, 'gini = 0.03\\nsamples = 329\\nvalue = [5, 324]'),\n",
              " Text(125.55000000000001, 36.23999999999998, 'gini = 0.493\\nsamples = 50\\nvalue = [28, 22]'),\n",
              " Text(251.10000000000002, 108.72, 'X[27] <= 0.153\\ngini = 0.109\\nsamples = 190\\nvalue = [179, 11]'),\n",
              " Text(209.25, 36.23999999999998, 'gini = 0.343\\nsamples = 50\\nvalue = [39, 11]'),\n",
              " Text(292.95, 36.23999999999998, 'gini = 0.0\\nsamples = 140\\nvalue = [140, 0]')]"
            ]
          },
          "metadata": {
            "tags": []
          },
          "execution_count": 16
        },
        {
          "output_type": "display_data",
          "data": {
            "image/png": "[encoded data removed]",
            "text/plain": [
              "<Figure size 432x288 with 1 Axes>"
            ]
          },
          "metadata": {
            "tags": [],
            "needs_background": "light"
          }
        }
      ]
    },
    {
      "cell_type": "code",
      "metadata": {
        "id": "edyexOhCOs4_",
        "colab_type": "code",
        "outputId": "78f0c727-5ad7-40c1-fae7-4ed55c598214",
        "colab": {
          "base_uri": "https://localhost:8080/",
          "height": 277
        }
      },
      "source": [
        "#4.a.ii\n",
        "trainPerf(dtCan, xC, yC)\n"
      ],
      "execution_count": 17,
      "outputs": [
        {
          "output_type": "stream",
          "text": [
            " ------ training performance ------\n",
            "confusion matrix: \n",
            " [[207   5]\n",
            " [ 33 324]]\n",
            "kappa: 0.861 \n",
            "Classification report: \n",
            "               precision    recall  f1-score   support\n",
            "\n",
            "           0       0.86      0.98      0.92       212\n",
            "           1       0.98      0.91      0.94       357\n",
            "\n",
            "    accuracy                           0.93       569\n",
            "   macro avg       0.92      0.94      0.93       569\n",
            "weighted avg       0.94      0.93      0.93       569\n",
            "\n"
          ],
          "name": "stdout"
        }
      ]
    },
    {
      "cell_type": "markdown",
      "metadata": {
        "id": "Ac_RtqKlQB_c",
        "colab_type": "text"
      },
      "source": [
        "The confusion matrix indicates that there is 207 TP, 5 FP, along with 33 FN, and 324 TN, these numbers start from the top and are dispersed throughout the tree depending on the true and false statement. The value attributres signals how many were true, assume the right value, and were false, assume the left value. Then all the leaf nodes were added up by each category (TP, FP, FN, TN) giving us the numbers in the confusion matrix."
      ]
    },
    {
      "cell_type": "code",
      "metadata": {
        "id": "Rb17JzGRQe1r",
        "colab_type": "code",
        "outputId": "1ab82e35-c120-4396-ed06-f34fd0d281ba",
        "colab": {
          "base_uri": "https://localhost:8080/",
          "height": 295
        }
      },
      "source": [
        "#4.a.iii\n",
        "crossValPer(dtCan, xC, yC)"
      ],
      "execution_count": 18,
      "outputs": [
        {
          "output_type": "stream",
          "text": [
            "------- cross-validation performance -------\n",
            "confusion matrix: \n",
            " [[191  21]\n",
            " [ 36 321]]\n",
            "accuracy: 0.900\n",
            "kappa: 0.789\n",
            "Classification report: \n",
            "               precision    recall  f1-score   support\n",
            "\n",
            "           0       0.84      0.90      0.87       212\n",
            "           1       0.94      0.90      0.92       357\n",
            "\n",
            "    accuracy                           0.90       569\n",
            "   macro avg       0.89      0.90      0.89       569\n",
            "weighted avg       0.90      0.90      0.90       569\n",
            "\n"
          ],
          "name": "stdout"
        }
      ]
    }
  ]
}