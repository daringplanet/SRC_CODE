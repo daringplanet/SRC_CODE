{
 "cells": [
  {
   "cell_type": "markdown",
   "metadata": {},
   "source": [
    "# HW4"
   ]
  },
  {
   "cell_type": "code",
   "execution_count": null,
   "metadata": {
    "collapsed": true,
    "scrolled": true
   },
   "outputs": [],
   "source": [
    "\n",
    "# HW4 set up\n",
    "\n",
    "import numpy as np\n",
    "from matplotlib.pyplot import *"
   ]
  },
  {
   "cell_type": "markdown",
   "metadata": {},
   "source": [
    "## Q1 Vectorized computing "
   ]
  },
  {
   "cell_type": "code",
   "execution_count": null,
   "metadata": {
    "scrolled": true
   },
   "outputs": [],
   "source": [
    "# Q1 setup\n",
    "x = np.reshape(range(20), (5, 4))\n",
    "x"
   ]
  },
  {
   "cell_type": "code",
   "execution_count": null,
   "metadata": {
    "scrolled": true
   },
   "outputs": [],
   "source": [
    "# Example: Write one line python code to calculate the sum of each row. \n",
    "\n",
    "x.sum(1)"
   ]
  },
  {
   "cell_type": "code",
   "execution_count": null,
   "metadata": {
    "scrolled": true
   },
   "outputs": [],
   "source": [
    "# Q1a. Write one line python code to calculate the sum of each column. \n"
   ]
  },
  {
   "cell_type": "code",
   "execution_count": null,
   "metadata": {
    "scrolled": true
   },
   "outputs": [],
   "source": [
    "# Q1b.\tWrite one line python code to calculate the max of each row.\n"
   ]
  },
  {
   "cell_type": "code",
   "execution_count": null,
   "metadata": {
    "scrolled": true
   },
   "outputs": [],
   "source": [
    "# Q1c.\tWrite one line python code to calculate the mean of the whole matrix.\n"
   ]
  },
  {
   "cell_type": "code",
   "execution_count": null,
   "metadata": {
    "scrolled": true
   },
   "outputs": [],
   "source": [
    "# Q1d.\tWrite one line python code to multiple each column by its (column index + 1).\n"
   ]
  },
  {
   "cell_type": "code",
   "execution_count": null,
   "metadata": {
    "scrolled": true
   },
   "outputs": [],
   "source": [
    "# Q1e.\tWrite one line python code to divide each value by the max value of its row.\n"
   ]
  },
  {
   "cell_type": "code",
   "execution_count": null,
   "metadata": {
    "scrolled": true
   },
   "outputs": [],
   "source": [
    "# Q1f.\tWrite one line python code to calculate a weighted sum of each row, where each column contributes 1 / 2.^(column index+1) of its value.\n"
   ]
  },
  {
   "cell_type": "code",
   "execution_count": null,
   "metadata": {
    "scrolled": true
   },
   "outputs": [],
   "source": [
    "# Q1g.\tWrite one line python code to calculate a weighted sum of each column, where each row contributes 1/(row index + 1) of its value.\n",
    "\n"
   ]
  },
  {
   "cell_type": "code",
   "execution_count": null,
   "metadata": {
    "scrolled": true
   },
   "outputs": [],
   "source": [
    "# Q1h.\tWrite one line python code to return the rows of x where its sum is a multiple of 3.\n",
    "\n"
   ]
  },
  {
   "cell_type": "code",
   "execution_count": null,
   "metadata": {
    "scrolled": true
   },
   "outputs": [],
   "source": [
    "# Q1i.\tWrite one line python code to return the columns of x where its sum is a multiple of 8.\n",
    "\n"
   ]
  },
  {
   "cell_type": "code",
   "execution_count": null,
   "metadata": {
    "scrolled": true
   },
   "outputs": [],
   "source": [
    "# Q1j.\tWrite one line python code to change the odd numbers in x to 0. Then print out x.\n",
    "\n",
    "x"
   ]
  },
  {
   "cell_type": "markdown",
   "metadata": {},
   "source": [
    "## Q2 Binomial distribution simulation\n",
    "\n",
    "Write a program to simulate an experiment of tossing a fair coin 16 times and counting the number of heads. Repeat this experiment 10^5 times to obtain the number of heads for every 16 tosses; save the number of heads in a vector of size 10^5 (nHeads). You should be able to do this in just one line. (Use np.random.uniform to generate a 2d array of 10^5 x 16 random numbers between 0 and 1; a value that is greater than 0.5 is considered a “head”.) Complete the following questions."
   ]
  },
  {
   "cell_type": "code",
   "execution_count": null,
   "metadata": {
    "collapsed": true,
    "scrolled": true
   },
   "outputs": [],
   "source": [
    "#%% Q2 setup\n",
    "import scipy.stats as stats\n",
    "import np.random as rn\n",
    "\n",
    "N = 16;\n",
    "rn.seed(0)\n"
   ]
  },
  {
   "cell_type": "markdown",
   "metadata": {},
   "source": [
    "### Q2a \n",
    "Plot the histogram of nHeads using plt.hist, with parameter bins = range(18). Label your plots clearly.\n"
   ]
  },
  {
   "cell_type": "code",
   "execution_count": null,
   "metadata": {
    "collapsed": true,
    "scrolled": true
   },
   "outputs": [],
   "source": [
    "\n"
   ]
  },
  {
   "cell_type": "markdown",
   "metadata": {},
   "source": [
    "### Q2b \n",
    "Plot the PMF using plt.hist with parameter bins = range(18) and normed=True. Label your plots clearly.\n"
   ]
  },
  {
   "cell_type": "code",
   "execution_count": null,
   "metadata": {
    "collapsed": true
   },
   "outputs": [],
   "source": []
  },
  {
   "cell_type": "markdown",
   "metadata": {},
   "source": [
    "### Q2c \n",
    "Calculate the probability of having NO MORE THAN k heads out of 16 tosses, where k = 0, 1, 2, … 15, 16. Plot this as a CDF. You can calculate the probabilities/counts with your own code or using values returned from 2a/2b.) Label your plots clearly. \n",
    "\n",
    "        "
   ]
  },
  {
   "cell_type": "code",
   "execution_count": null,
   "metadata": {
    "collapsed": true
   },
   "outputs": [],
   "source": []
  },
  {
   "cell_type": "markdown",
   "metadata": {},
   "source": [
    "### Q2d \n",
    "Use the binomial distribution CDF (use scipy.stats.binom.cdf) to compute the probability of having NO MORE THAN k heads out of 16 tosses, where k = 0, 1, 2, …, 15, 16 and compare these probabilities with the probabilities you obtained in 2c. (Plot the probabilities you obtained from the simulation results in 2c against the probabilities from your theoretical calculation here, as  a scatter plot or line graph. Plot in loglog scale is recommended to visualize small probabilities.)"
   ]
  },
  {
   "cell_type": "code",
   "execution_count": null,
   "metadata": {
    "collapsed": true
   },
   "outputs": [],
   "source": []
  },
  {
   "cell_type": "markdown",
   "metadata": {},
   "source": [
    "### Q2e (Bonus: 10 pts) \n",
    "Make a normal probability plot (thinkstats ch 4.4, slide #28) to show that the distribution of nHeads is close to a normal distribution with mean 8 and standard deviation 2. "
   ]
  },
  {
   "cell_type": "code",
   "execution_count": null,
   "metadata": {
    "collapsed": true
   },
   "outputs": [],
   "source": []
  },
  {
   "cell_type": "markdown",
   "metadata": {},
   "source": [
    "### Q2f \n",
    "Use normal distribution approximation to calculate the cumulative probabilities that you were asked to calculate in 2c, and compare the two results using a loglog plot. (The corresponding CDF from norm distribution can be calculated using scipy.stats.norm.cdf.)"
   ]
  },
  {
   "cell_type": "code",
   "execution_count": null,
   "metadata": {
    "collapsed": true
   },
   "outputs": [],
   "source": []
  },
  {
   "cell_type": "markdown",
   "metadata": {},
   "source": [
    "## Q3 Weight and height data analysis, t-test\n",
    "\n",
    "In this exercise we will be analyzing the BRFSS weight vs height data. Download data and code skeleton from course website. The code skeleton contains code to load the data and generate a numpy array object. The five columns in the numpy array represent: age, current_weight (kg), weight_a_year_ago (kg), height (cm), and gender, where gender == 1 represents male and 2 represents female."
   ]
  },
  {
   "cell_type": "code",
   "execution_count": null,
   "metadata": {},
   "outputs": [],
   "source": [
    "#%% Q3 setup\n",
    "import pandas as pd\n",
    "\n",
    "data = pd.read_csv('brfss.csv', index_col=0)\n",
    "\n",
    "# data is a numpy array and the columns are age, current weight (kg), \n",
    "# last year's weight (kg), height (cm), and gender (1: male; 2: female).\n",
    "data = data.drop('wtkg2',axis=1).dropna(axis=0, how='any').values\n",
    "data.shape\n"
   ]
  },
  {
   "cell_type": "markdown",
   "metadata": {},
   "source": [
    "\n",
    "### Q3a \n",
    "\n",
    "Use your code from HW1 to produce a summary statistics graph on current_weight, weight_a_year_ago, and height. (Plot min, max, mean, median, mean+std, mean-std of each column in one figure.)\n",
    "\n"
   ]
  },
  {
   "cell_type": "code",
   "execution_count": null,
   "metadata": {
    "collapsed": true
   },
   "outputs": [],
   "source": [
    "# code"
   ]
  },
  {
   "cell_type": "markdown",
   "metadata": {},
   "source": [
    "### answer"
   ]
  },
  {
   "cell_type": "markdown",
   "metadata": {},
   "source": [
    "### Q3b \n",
    "\n",
    "Define weight_change = (current_weight – weight_a_year_ago). Calculate Pearson correlation between weight_change and the following variables, and determine which one is most correlated (regardless of sign of correlation) with weight_change. Make scatter plots to support your conclusion. \n",
    "\n",
    "i.\tcurrent_weight\n",
    "ii.\tweight_a_year_ago\n",
    "iii.\tage\n",
    "\n",
    "\n"
   ]
  },
  {
   "cell_type": "code",
   "execution_count": null,
   "metadata": {
    "collapsed": true
   },
   "outputs": [],
   "source": [
    "# code"
   ]
  },
  {
   "cell_type": "markdown",
   "metadata": {},
   "source": [
    "### answer"
   ]
  },
  {
   "cell_type": "markdown",
   "metadata": {},
   "source": [
    "### Q3c\n",
    "Calculate and compare the mean and SEM (standard error of the mean) for the weight_change of male and female, respectively. Use t-test to test whether there is a significant difference between the weight_change of male and female.\n"
   ]
  },
  {
   "cell_type": "code",
   "execution_count": null,
   "metadata": {
    "collapsed": true
   },
   "outputs": [],
   "source": [
    "# code"
   ]
  },
  {
   "cell_type": "markdown",
   "metadata": {},
   "source": [
    "### Answer\n"
   ]
  },
  {
   "cell_type": "markdown",
   "metadata": {},
   "source": [
    "### Q3d\n",
    "\n",
    "Define weight_height _ratio as current_weight/height. Calculate and compare the mean and SEM (standard error of the mean) for the weight_height_ratio of male and female. Use t-test to test whether there is a significant difference between the weight_height_ratio of male and female."
   ]
  },
  {
   "cell_type": "code",
   "execution_count": null,
   "metadata": {
    "collapsed": true
   },
   "outputs": [],
   "source": [
    "# code"
   ]
  },
  {
   "cell_type": "markdown",
   "metadata": {},
   "source": [
    "### Answer"
   ]
  },
  {
   "cell_type": "markdown",
   "metadata": {},
   "source": [
    "### Q3e (bonus: 10pts)\n",
    "Randomly split the subjects into two groups of roughly equal sizes, and use t-test to test whether there is a significant difference between the weight_change of the two groups. Repeat the process 1000 times and plot the distribution of the -log10(p-value) of the t-test results. What can you say about the difference between male and female in terms of their weight_change? (Consider both the p-value and the absolute differences between the two means.)\n"
   ]
  },
  {
   "cell_type": "markdown",
   "metadata": {},
   "source": [
    "### Q3f (Bonus: 5 pts)\n",
    "Propose and perform your own analysis that utilizes different skills taught in class (or reveal additional interesting insight from this data set). "
   ]
  }
 ],
 "metadata": {
  "kernelspec": {
   "display_name": "Python 3",
   "language": "python",
   "name": "python3"
  },
  "language_info": {
   "codemirror_mode": {
    "name": "ipython",
    "version": 3
   },
   "file_extension": ".py",
   "mimetype": "text/x-python",
   "name": "python",
   "nbconvert_exporter": "python",
   "pygments_lexer": "ipython3",
   "version": "3.6.1"
  }
 },
 "nbformat": 4,
 "nbformat_minor": 2
}
